{
 "cells": [
  {
   "cell_type": "markdown",
   "id": "9cd0efcd",
   "metadata": {},
   "source": [
    "# Simultion of adhesion cluster in the horizontal model\n",
    "This code makes use of parallel processing. If the user has no access to multiple cores, use the function 'HorizontalModel_xi(x)', insert one value for xi and skip step 4."
   ]
  },
  {
   "cell_type": "markdown",
   "id": "5cc6f3bf",
   "metadata": {},
   "source": [
    "## 0. Setting up"
   ]
  },
  {
   "cell_type": "markdown",
   "id": "b95cea74",
   "metadata": {},
   "source": [
    "#### Imports"
   ]
  },
  {
   "cell_type": "code",
   "execution_count": 1,
   "id": "b79a95a1",
   "metadata": {},
   "outputs": [],
   "source": [
    "import numpy as np\n",
    "import matplotlib\n",
    "import matplotlib.pyplot as plt\n",
    "import random\n",
    "import math\n",
    "from scipy import special\n",
    "import bisect\n",
    "from statistics import mean\n",
    "import time\n",
    "import concurrent.futures\n",
    "from cycler import cycler\n",
    "import pickle\n",
    "import os "
   ]
  },
  {
   "cell_type": "markdown",
   "id": "1f712520",
   "metadata": {},
   "source": [
    "#### Parameters"
   ]
  },
  {
   "cell_type": "code",
   "execution_count": 2,
   "id": "eb8c5c73",
   "metadata": {},
   "outputs": [],
   "source": [
    "kappab = 0.25\n",
    "k_BT = 4.114 # k_B T at room temperature (298K) in units of pN*nm = 10^{-21}Nm\n",
    "l_b = 1 # rest length in units of nm\n",
    "e_b = 1.5 # binding energy in units of k_BT \n",
    "sigma_b = math.sqrt(k_BT / 0.25) #not sure about kappa_b = 0.25, please refer to Supplementary Notes I. Parameters \n",
    "Delta = 10 # in units of nm, Delta = Delta1 + Delta2\n",
    "e_f = 0.5 # unfolding energy in units of k_BT \n",
    "k_beta = 1\n",
    "k_delta = 1\n",
    "F0 = k_BT/ math.sqrt(k_BT )"
   ]
  },
  {
   "cell_type": "markdown",
   "id": "0ef52a06",
   "metadata": {},
   "source": [
    "## 1. Functions"
   ]
  },
  {
   "cell_type": "markdown",
   "id": "40b2534e",
   "metadata": {},
   "source": [
    "#### Probability distribution"
   ]
  },
  {
   "cell_type": "code",
   "execution_count": 3,
   "id": "3be7685b",
   "metadata": {},
   "outputs": [],
   "source": [
    "def bind_p(x):\n",
    "    return k_beta/(np.sqrt(2*math.pi)*sigma_b)*np.exp(-(abs(x)-l_b)**2/(2*sigma_b**2) + e_b)\n",
    "def bind_p_u(x):\n",
    "    return k_beta/(np.sqrt(2*math.pi)*sigma_b)*np.exp(-(abs(x-Delta)-l_b)**2/(2*sigma_b**2) + e_b)\n",
    "\n",
    "resolution = 10_000\n",
    "h = [n/resolution for n in range(-25*resolution,40*resolution)]\n",
    "\n",
    "prob_bind = list(map(bind_p, h))\n",
    "prob_bind_u = list(map(bind_p_u, h))"
   ]
  },
  {
   "cell_type": "markdown",
   "id": "7dd1e89d",
   "metadata": {},
   "source": [
    "#### Choose random stretch according to prob. distribution"
   ]
  },
  {
   "cell_type": "code",
   "execution_count": 4,
   "id": "d739f65d",
   "metadata": {},
   "outputs": [],
   "source": [
    "def random_stretch():\n",
    "    return random.choices(h, prob_bind)[-1]\n",
    "def random_stretch_u():\n",
    "    return random.choices(h, prob_bind_u)[-1]"
   ]
  },
  {
   "cell_type": "markdown",
   "id": "2484e000",
   "metadata": {},
   "source": [
    "#### Initialize system of molecules"
   ]
  },
  {
   "cell_type": "code",
   "execution_count": 5,
   "id": "b7801f89",
   "metadata": {},
   "outputs": [],
   "source": [
    "def system_init():\n",
    "    system = [[],[]]\n",
    "    for i in range(0, na_init):\n",
    "        system[0].append(0)\n",
    "        system[1].append(0)\n",
    "    for i in range(0, nb_init):\n",
    "        system[0].append(1)\n",
    "        system[1].append(0)\n",
    "    for i in range(0, nau_init):\n",
    "        system[0].append(2) \n",
    "        system[1].append(0)\n",
    "    for i in range(0, nbu_init):\n",
    "        system[0].append(3)\n",
    "        system[1].append(0)\n",
    "    return system"
   ]
  },
  {
   "cell_type": "markdown",
   "id": "649899f0",
   "metadata": {},
   "source": [
    "#### Initial shift due to external force (if force = 0, s0 = 0) and stretch of each molecule"
   ]
  },
  {
   "cell_type": "code",
   "execution_count": 6,
   "id": "f7830ec2",
   "metadata": {},
   "outputs": [],
   "source": [
    "def stretch_mol_init(f, system, s):\n",
    "    s.append(f*F0/(kappab * (system[0].count(1) + system[0].count(3))))\n",
    "    for i in range(0, len(system[1][:])):\n",
    "        state = system[0][i]\n",
    "        if state == 0 or state == 2:\n",
    "            system[1][i] = 0\n",
    "        elif state == 1 or state == 3: \n",
    "            system[1][i] = s[-1]\n",
    "    return system, s"
   ]
  },
  {
   "cell_type": "markdown",
   "id": "732e7414",
   "metadata": {},
   "source": [
    "#### Define rates "
   ]
  },
  {
   "cell_type": "code",
   "execution_count": 7,
   "id": "0977906b",
   "metadata": {},
   "outputs": [],
   "source": [
    "def betap(): #reaction 0\n",
    "    return k_beta * np.exp(e_b)*(1 + math.erf(l_b/(sigma_b * math.sqrt(2))))  \n",
    "def betam(stretch): #reaction 1\n",
    "    return k_beta * np.exp((2 * abs(stretch) * l_b - l_b**2) / (2*sigma_b**2)) \n",
    "def betapu(): #reaction 2 \n",
    "    return k_beta * np.exp(e_b)*(1 + math.erf(l_b/(sigma_b * math.sqrt(2))))\n",
    "def betamu(stretch): #reaction 3\n",
    "    return k_beta * np.exp((2 * abs(stretch) * l_b - l_b**2) / (2*sigma_b**2)) \n",
    "def deltaap(): #reaction 4\n",
    "    return k_delta * np.exp(-1*e_f)\n",
    "def deltabp(stretch): #reaction 5\n",
    "    return k_delta * np.exp((2 * (Delta - Delta/2) * (stretch) - (Delta - Delta/2)**2) / (2*sigma_b**2) - e_f)\n",
    "def deltaam(): #reaction 6\n",
    "    return k_delta\n",
    "def deltabm(stretch): #reaction 7\n",
    "    return k_delta * np.exp((-2 * (Delta - Delta/2) * (stretch) - (Delta - Delta/2)**2) / (2*sigma_b**2))\n",
    "def gammap(Nbu, xi): #reaction 8\n",
    "    return gammap_0 + xi * Nbu\n",
    "def gammam(): #reaction 9\n",
    "    return gammamin"
   ]
  },
  {
   "cell_type": "markdown",
   "id": "d8a1fd48",
   "metadata": {},
   "source": [
    "#### Assign propensities"
   ]
  },
  {
   "cell_type": "code",
   "execution_count": 8,
   "id": "3a535e2d",
   "metadata": {},
   "outputs": [],
   "source": [
    "def propensities(system, xi , Nbu):\n",
    "    prop = [[],[0],[],[]] # [[reaction id],[cumulative rate], [place in list system], [new state it would become after reaction]]\n",
    "    for i in range(0, len(system[0])):\n",
    "        state = system[0][i]\n",
    "        \n",
    "        if state == 0:               \n",
    "            prop[0].append(0)\n",
    "            prop[1].append(prop[1][-1] + betap()) # a -> b\n",
    "            prop[2].append(i)\n",
    "            prop[3].append(1)\n",
    "\n",
    "            prop[0].append(4)\n",
    "            prop[1].append(prop[1][-1] + deltaap()) # a -> au\n",
    "            prop[2].append(i)\n",
    "            prop[3].append(2)\n",
    "\n",
    "            prop[0].append(9)\n",
    "            prop[1].append(prop[1][-1] + gammam()) # a -> res\n",
    "            prop[2].append(i)\n",
    "            prop[3].append(-1)\n",
    "            \n",
    "            continue\n",
    "\n",
    "        elif state == 1:\n",
    "            prop[0].append(1)\n",
    "            prop[1].append(prop[1][-1] + betam(system[1][i])) #b -> a \n",
    "            prop[2].append(i)\n",
    "            prop[3].append(0)\n",
    "\n",
    "            prop[0].append(5)\n",
    "            prop[1].append(prop[1][-1] + deltabp(system[1][i])) #b -> bu\n",
    "            prop[2].append(i)\n",
    "            prop[3].append(3)  \n",
    "            \n",
    "            continue\n",
    "\n",
    "        elif state == 2:\n",
    "            prop[0].append(2)\n",
    "            prop[1].append(prop[1][-1] + betapu()) # au -> bu\n",
    "            prop[2].append(i)\n",
    "            prop[3].append(3)\n",
    "\n",
    "            prop[0].append(6)\n",
    "            prop[1].append(prop[1][-1] + deltaam()) #au -> a\n",
    "            prop[2].append(i)\n",
    "            prop[3].append(0)\n",
    "            \n",
    "            continue\n",
    "\n",
    "        elif state == 3:\n",
    "            prop[0].append(3)\n",
    "            prop[1].append(prop[1][-1] + betamu(system[1][i])) # bu -> au\n",
    "            prop[2].append(i)\n",
    "            prop[3].append(2)\n",
    "\n",
    "            prop[0].append(7)\n",
    "            prop[1].append(prop[1][-1] + deltabm(system[1][i])) #bu -> b\n",
    "            prop[2].append(i)\n",
    "            prop[3].append(1)\n",
    "            \n",
    "            continue\n",
    "        \n",
    "    prop[0].append(8)\n",
    "    prop[1].append(prop[1][-1] + gammap(Nbu, xi)*nres)\n",
    "    prop[2].append(-1)\n",
    "    prop[3].append(0)\n",
    "\n",
    "    prop[1].pop(0)\n",
    "    \n",
    "    return prop"
   ]
  },
  {
   "cell_type": "markdown",
   "id": "33395e2c",
   "metadata": {},
   "source": [
    "#### Select reaction"
   ]
  },
  {
   "cell_type": "code",
   "execution_count": 9,
   "id": "c0774d7b",
   "metadata": {},
   "outputs": [],
   "source": [
    "def choose_reaction(prop, var): \n",
    "    rand_reaction = var * prop[1][-1]\n",
    "    return bisect.bisect_left(prop[1], rand_reaction)"
   ]
  },
  {
   "cell_type": "markdown",
   "id": "f61bca1d",
   "metadata": {},
   "source": [
    "#### Update molecule state and stretch according to reaction"
   ]
  },
  {
   "cell_type": "code",
   "execution_count": 10,
   "id": "ee348afe",
   "metadata": {},
   "outputs": [],
   "source": [
    "def system_update_reaction(x, s, system, prop):\n",
    "    oldstate = system[0][prop[2][x]]\n",
    "    \n",
    "    if prop[0][x] == 0: # betap(): a->b\n",
    "        system[0][prop[2][x]] = 1 \n",
    "        system[1][prop[2][x]] = random_stretch()\n",
    "    \n",
    "    elif prop[0][x] == 1: # betam(): b->a\n",
    "        system[0][prop[2][x]] = 0 \n",
    "        system[1][prop[2][x]] = 0\n",
    "    \n",
    "    elif prop[0][x] == 2: # betapu(): au->bu\n",
    "        system[0][prop[2][x]] = 3 \n",
    "        system[1][prop[2][x]] = random_stretch()\n",
    "        \n",
    "    elif prop[0][x] == 3: # betamu(): bu->au\n",
    "        system[0][prop[2][x]] = 2 \n",
    "        system[1][prop[2][x]] = 0\n",
    "        \n",
    "    elif prop[0][x] == 4: # deltaap(): a->au\n",
    "        system[0][prop[2][x]] = 2 \n",
    "        system[1][prop[2][x]] = 0\n",
    "        \n",
    "    elif prop[0][x] == 5: # deltabp(): b->bu\n",
    "        system[0][prop[2][x]] = 3 \n",
    "        system[1][prop[2][x]] = system[1][prop[2][x]] - Delta\n",
    "    \n",
    "    elif prop[0][x] == 6: # deltaam(): au->a\n",
    "        system[0][prop[2][x]] = 0 \n",
    "        system[1][prop[2][x]] = 0 \n",
    "        \n",
    "    elif prop[0][x] == 7: # deltabm(): bu->b\n",
    "        system[0][prop[2][x]] = 1 \n",
    "        system[1][prop[2][x]] = system[1][prop[2][x]] + Delta\n",
    "\n",
    "    elif prop[0][x] == 8: #reaction id = 8, i.e., gamma plus -> new state is created\n",
    "        system[0].append(0) #new state created with molecule = a \n",
    "        system[1].append(0) #thus, stretch = 0\n",
    "    \n",
    "    elif prop[0][x] == 9: #reaction id = 9, i.e., gamma minus -> current state is removed\n",
    "        system[0].pop(prop[2][x]) #current state is removed\n",
    "        system[1].pop(prop[2][x]) #corresponding stretch gets also removed\n",
    "   \n",
    "    else:\n",
    "        print(f'ERROR! State after: {prop[3][x]}, state before: {system[0][prop[2][x]] }')\n",
    "        \n",
    "    return system"
   ]
  },
  {
   "cell_type": "markdown",
   "id": "2e7b6909",
   "metadata": {},
   "source": [
    "#### Update the surface's shift (which depends on the number of bonds)"
   ]
  },
  {
   "cell_type": "code",
   "execution_count": 11,
   "id": "6b95b304",
   "metadata": {},
   "outputs": [],
   "source": [
    "def stretch_tot(s, system, f):\n",
    "    sum_eq_shift = 0\n",
    "    if (system[0].count(1) + system[0].count(3)) > 0:\n",
    "        \n",
    "        for i in range(0, len(system[1])):\n",
    "            if system[0][i] == 1 or system[0][i] == 3:\n",
    "                sum_eq_shift += s[-1] - system[1][i] \n",
    "        \n",
    "        s.append(1/(system[0].count(1) + system[0].count(3))*(f*F0/kappab + sum_eq_shift))\n",
    "        return s\n",
    "    else:\n",
    "        print(f'Complete dissociation at xi = {xi} and f = {f}')\n",
    "        return 0"
   ]
  },
  {
   "cell_type": "markdown",
   "id": "b14e296b",
   "metadata": {},
   "source": [
    "#### Update molecules stretch according to new shift"
   ]
  },
  {
   "cell_type": "code",
   "execution_count": 12,
   "id": "03955755",
   "metadata": {},
   "outputs": [],
   "source": [
    "def stretch_mol_update(s, system):\n",
    "    for i in range(0, len(system[1][:])):\n",
    "        state = system[0][i]\n",
    "        if state == 0 or state == 2:\n",
    "            system[1][i] = 0\n",
    "        elif state == 1 or state == 3: \n",
    "            system[1][i] = s[-1] - (s[-2] - system[1][i])\n",
    "    return system"
   ]
  },
  {
   "cell_type": "markdown",
   "id": "ec53fdd1",
   "metadata": {},
   "source": [
    "## 2. Main Function - Gillespie Algrithm"
   ]
  },
  {
   "cell_type": "code",
   "execution_count": 23,
   "id": "33c692a1",
   "metadata": {},
   "outputs": [],
   "source": [
    "def HorizontalModel_xi(x):\n",
    "    xi = x\n",
    "    print(xi)\n",
    "\n",
    "    occupation_all = []\n",
    "    time_all = []\n",
    "    shift = []\n",
    "\n",
    "    for force in forces:\n",
    "        s = [0]\n",
    "        t = [0]\n",
    "\n",
    "        # initialize system\n",
    "        system = system_init()\n",
    "        occupation = [[system[0].count(0)],[system[0].count(1)],[system[0].count(2)],[system[0].count(3)]]\n",
    "\n",
    "        system , s = stretch_mol_init(force, system, s)        \n",
    "        \n",
    "        ## Gillespie\n",
    "        for i in range(0, noreact):\n",
    "            Nbu = system[0].count(3)\n",
    "            \n",
    "            prop = propensities(system, xi, Nbu)\n",
    "            var = random.random()\n",
    "            tau = - np.log(1 - var)/(prop[1][-1])\n",
    "            t.append(t[-1] + tau)\n",
    "\n",
    "            k = choose_reaction(prop, var)\n",
    "            system = system_update_reaction(k ,s, system, prop)\n",
    "            #new_stretch\n",
    "            s = stretch_tot(s, system, force)\n",
    "            if s == 0:\n",
    "                break\n",
    "\n",
    "            ##update molecule stretches\n",
    "            system = stretch_mol_update(s, system)\n",
    "            \n",
    "            occupation[0].append(system[0].count(0))\n",
    "            occupation[1].append(system[0].count(1))\n",
    "            occupation[2].append(system[0].count(2)) \n",
    "            occupation[3].append(system[0].count(3))\n",
    "\n",
    "            if system[0].count(1) + system[0].count(3) == 0:      \n",
    "                print(f'Complete dissociation at xi = {xi} and f = {force}')\n",
    "                break\n",
    "        \n",
    "        occupation_all.append(occupation)\n",
    "        time_all.append(t)\n",
    "        shift.append(s)\n",
    "\n",
    "    return occupation_all, time_all, shift"
   ]
  },
  {
   "cell_type": "markdown",
   "id": "f46e57ee",
   "metadata": {},
   "source": [
    "## 3. Set initial conditons"
   ]
  },
  {
   "cell_type": "code",
   "execution_count": 26,
   "id": "343ba16c",
   "metadata": {},
   "outputs": [],
   "source": [
    "gammap_0 = 10  \n",
    "gammamin = 1\n",
    "\n",
    "na_init = 100\n",
    "nb_init = 60 \n",
    "nau_init = 20\n",
    "nbu_init = 10\n",
    "\n",
    "nres = 1\n",
    "\n",
    "noreact = 1_000\n",
    "\n",
    "forces = [i for i in range(0, 13, 4)]\n",
    "lst = [0, 0.1, 0.2, 0.3]"
   ]
  },
  {
   "cell_type": "markdown",
   "id": "df2af215",
   "metadata": {},
   "source": [
    "## 4. Run Simulation"
   ]
  },
  {
   "cell_type": "code",
   "execution_count": 27,
   "id": "6ff434be",
   "metadata": {},
   "outputs": [
    {
     "name": "stdout",
     "output_type": "stream",
     "text": [
      "00.3\n",
      "\n",
      "0.10.2\n",
      "\n",
      "Finished in 0.9996666666666666 minutes\n"
     ]
    }
   ],
   "source": [
    "start = time.perf_counter()\n",
    "\n",
    "with concurrent.futures.ProcessPoolExecutor() as executor: # LRZ Cluster insert max_workers=int(os.environ['SLURM_CPUS_PER_TASK'])\n",
    "    results = executor.map(HorizontalModel_xi, lst)\n",
    "    i = 0\n",
    "    dict = {}\n",
    "\n",
    "    for result in results:\n",
    "        for t in forces:\n",
    "            dict[f'xi{lst[i]}_f{t}_occ'] = result[0][forces.index(t)]\n",
    "            dict[f'xi{lst[i]}_f{t}_time'] = result[1][forces.index(t)]\n",
    "            dict[f'xi{lst[i]}_f{t}_shift'] = result[2][forces.index(t)]\n",
    "        i += 1\n",
    "\n",
    "#with open(f'xi{lst[0]}-{lst[-1]}_gp{gammap_0}_gm{gammamin}_f{forces[0]}-{forces[-1]}_molinit{na_init}-{nb_init}-{nau_init}-{nbu_init}_noreac{noreact}_tsteady{tsteadystate}.pkl', 'wb') as f:\n",
    "    #pickle.dump(dict, f)\n",
    "\n",
    "finish = time.perf_counter()\n",
    "print(f'Finished in {round(finish - start, 2)/60} minutes')   \n"
   ]
  }
 ],
 "metadata": {
  "kernelspec": {
   "display_name": "Python 3 (ipykernel)",
   "language": "python",
   "name": "python3"
  },
  "language_info": {
   "codemirror_mode": {
    "name": "ipython",
    "version": 3
   },
   "file_extension": ".py",
   "mimetype": "text/x-python",
   "name": "python",
   "nbconvert_exporter": "python",
   "pygments_lexer": "ipython3",
   "version": "3.9.13"
  }
 },
 "nbformat": 4,
 "nbformat_minor": 5
}